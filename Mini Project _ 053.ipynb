#code change11
#code change
{
 "cells": [
  {
   "cell_type": "code",
   "execution_count": 1,
   "id": "77993058",
   "metadata": {},
   "outputs": [
    {
     "name": "stdout",
     "output_type": "stream",
     "text": [
      "Requirement already satisfied: pyspark in c:\\users\\shivam\\anaconda3\\lib\\site-packages (3.2.1)\n",
      "Requirement already satisfied: py4j==0.10.9.3 in c:\\users\\shivam\\anaconda3\\lib\\site-packages (from pyspark) (0.10.9.3)\n"
     ]
    }
   ],
   "source": [
    "!pip install pyspark"
   ]
  },
  {
   "cell_type": "code",
   "execution_count": 1,
   "id": "2d911fa2",
   "metadata": {},
   "outputs": [],
   "source": [
    "from pyspark.sql import SparkSession"
   ]
  },
  {
   "cell_type": "code",
   "execution_count": 2,
   "id": "bf312578",
   "metadata": {},
   "outputs": [],
   "source": [
    "spark = SparkSession \\\n",
    "        .builder \\\n",
    "        .appName(\"LogisticRegressionSummary\") \\\n",
    "        .getOrCreate()"
   ]
  },
  {
   "cell_type": "code",
   "execution_count": 3,
   "id": "d7883556",
   "metadata": {},
   "outputs": [],
   "source": [
    "from pyspark.ml.classification import LogisticRegression"
   ]
  },
  {
   "cell_type": "code",
   "execution_count": 4,
   "id": "d9910762",
   "metadata": {},
   "outputs": [],
   "source": [
    "#file_location = \"E:\\BIG DATA WORKSPACE\\Mini Project\\Data.csv\"\n",
    "file_location = \"Data\\data.csv\"\n",
    "file_type = \"csv\"\n",
    "\n",
    "# CSV options\n",
    "infer_schema = True\n",
    "first_row_is_header = False\n",
    "delimiter = \",\"\n",
    "\n",
    "# The applied options are for CSV files. For other file types, these will be ignored.\n",
    "rawstrokeDF = spark.read.format(file_type) \\\n",
    "  .option(\"inferSchema\", infer_schema) \\\n",
    "  .option(\"header\", first_row_is_header) \\\n",
    "  .option(\"sep\", delimiter) \\\n",
    "  .load(file_location)"
   ]
  },
  {
   "cell_type": "code",
   "execution_count": 5,
   "id": "51d26749",
   "metadata": {},
   "outputs": [
    {
     "name": "stdout",
     "output_type": "stream",
     "text": [
      "+---+---------------+---+---+---+---+--------+---------+-------+-------------+-----------------------------+--------------------+-----------------+------+-----+----+----+----+----+----+----+----+----+----+----+----------------------+----+----+----+----+----+----+----+----+----+----+----+\n",
      "|_c0|_c1            |_c2|_c3|_c4|_c5|_c6     |_c7      |_c8    |_c9          |_c10                         |_c11                |_c12             |_c13  |_c14 |_c15|_c16|_c17|_c18|_c19|_c20|_c21|_c22|_c23|_c24|_c25                  |_c26|_c27|_c28|_c29|_c30|_c31|_c32|_c33|_c34|_c35|_c36|\n",
      "+---+---------------+---+---+---+---+--------+---------+-------+-------------+-----------------------------+--------------------+-----------------+------+-----+----+----+----+----+----+----+----+----+----+----+----------------------+----+----+----+----+----+----+----+----+----+----+----+\n",
      "|1  |Cash loans     |M  |N  |Y  |0  |202500.0|406597.5 |24700.5|Working      |Secondary / secondary special|Single / not married|House / apartment|-9461 |-637 |1   |1   |0   |1   |1   |1.0 |2   |2   |0   |0   |Business Entity Type 3|0   |1   |0   |0   |0   |0   |0   |0   |0   |0   |0   |\n",
      "|0  |Cash loans     |F  |N  |N  |0  |270000.0|1293502.5|35698.5|State servant|Higher education             |Married             |House / apartment|-16765|-1188|1   |1   |0   |1   |1   |2.0 |1   |1   |0   |0   |School                |0   |1   |0   |0   |0   |0   |0   |0   |0   |0   |0   |\n",
      "|0  |Revolving loans|M  |Y  |Y  |0  |67500.0 |135000.0 |6750.0 |Working      |Secondary / secondary special|Single / not married|House / apartment|-19046|-225 |1   |1   |1   |1   |1   |1.0 |2   |2   |0   |0   |Government            |0   |0   |0   |0   |0   |0   |0   |0   |0   |0   |0   |\n",
      "|0  |Cash loans     |F  |N  |Y  |0  |135000.0|312682.5 |29686.5|Working      |Secondary / secondary special|Civil marriage      |House / apartment|-19005|-3039|1   |1   |0   |1   |0   |2.0 |2   |2   |0   |0   |Business Entity Type 3|0   |1   |0   |0   |0   |0   |0   |0   |0   |0   |0   |\n",
      "|0  |Cash loans     |M  |N  |Y  |0  |121500.0|513000.0 |21865.5|Working      |Secondary / secondary special|Single / not married|House / apartment|-19932|-3038|1   |1   |0   |1   |0   |1.0 |2   |2   |0   |0   |Religion              |0   |0   |0   |0   |0   |0   |1   |0   |0   |0   |0   |\n",
      "+---+---------------+---+---+---+---+--------+---------+-------+-------------+-----------------------------+--------------------+-----------------+------+-----+----+----+----+----+----+----+----+----+----+----+----------------------+----+----+----+----+----+----+----+----+----+----+----+\n",
      "only showing top 5 rows\n",
      "\n"
     ]
    }
   ],
   "source": [
    "rawstrokeDF.show(5, False)"
   ]
  },
  {
   "cell_type": "code",
   "execution_count": 6,
   "id": "0ca01121",
   "metadata": {},
   "outputs": [
    {
     "name": "stdout",
     "output_type": "stream",
     "text": [
      "+---+---+---+---+---+---+---+---+---+---+----+----+----+----+----+----+----+----+----+----+----+----+----+----+----+----+----+----+----+----+----+----+----+----+----+----+----+\n",
      "|_c0|_c1|_c2|_c3|_c4|_c5|_c6|_c7|_c8|_c9|_c10|_c11|_c12|_c13|_c14|_c15|_c16|_c17|_c18|_c19|_c20|_c21|_c22|_c23|_c24|_c25|_c26|_c27|_c28|_c29|_c30|_c31|_c32|_c33|_c34|_c35|_c36|\n",
      "+---+---+---+---+---+---+---+---+---+---+----+----+----+----+----+----+----+----+----+----+----+----+----+----+----+----+----+----+----+----+----+----+----+----+----+----+----+\n",
      "|  0|  0|  0|  0|  0|  0|  0|  0|  0|  0|   0|   0|   0|   0|   0|   0|   0|   0|   0|   0|   0|   0|   0|   0|   0|   0|   0|   0|   0|   0|   0|   0|   0|   0|   0|   0|   0|\n",
      "+---+---+---+---+---+---+---+---+---+---+----+----+----+----+----+----+----+----+----+----+----+----+----+----+----+----+----+----+----+----+----+----+----+----+----+----+----+\n",
      "\n"
     ]
    }
   ],
   "source": [
    "from pyspark.sql.functions import isnull, when, count, col\n",
    "rawstrokeDF.select([count(when(isnull(c), c)).alias(c) for c in rawstrokeDF.columns]).show()"
   ]
  },
  {
   "cell_type": "code",
   "execution_count": 7,
   "id": "c408a3f4",
   "metadata": {
    "scrolled": true
   },
   "outputs": [
    {
     "name": "stdout",
     "output_type": "stream",
     "text": [
      "root\n",
      " |-- _c0: integer (nullable = true)\n",
      " |-- _c1: string (nullable = true)\n",
      " |-- _c2: string (nullable = true)\n",
      " |-- _c3: string (nullable = true)\n",
      " |-- _c4: string (nullable = true)\n",
      " |-- _c5: integer (nullable = true)\n",
      " |-- _c6: double (nullable = true)\n",
      " |-- _c7: double (nullable = true)\n",
      " |-- _c8: double (nullable = true)\n",
      " |-- _c9: string (nullable = true)\n",
      " |-- _c10: string (nullable = true)\n",
      " |-- _c11: string (nullable = true)\n",
      " |-- _c12: string (nullable = true)\n",
      " |-- _c13: integer (nullable = true)\n",
      " |-- _c14: integer (nullable = true)\n",
      " |-- _c15: integer (nullable = true)\n",
      " |-- _c16: integer (nullable = true)\n",
      " |-- _c17: integer (nullable = true)\n",
      " |-- _c18: integer (nullable = true)\n",
      " |-- _c19: integer (nullable = true)\n",
      " |-- _c20: double (nullable = true)\n",
      " |-- _c21: integer (nullable = true)\n",
      " |-- _c22: integer (nullable = true)\n",
      " |-- _c23: integer (nullable = true)\n",
      " |-- _c24: integer (nullable = true)\n",
      " |-- _c25: string (nullable = true)\n",
      " |-- _c26: integer (nullable = true)\n",
      " |-- _c27: integer (nullable = true)\n",
      " |-- _c28: integer (nullable = true)\n",
      " |-- _c29: integer (nullable = true)\n",
      " |-- _c30: integer (nullable = true)\n",
      " |-- _c31: integer (nullable = true)\n",
      " |-- _c32: integer (nullable = true)\n",
      " |-- _c33: integer (nullable = true)\n",
      " |-- _c34: integer (nullable = true)\n",
      " |-- _c35: integer (nullable = true)\n",
      " |-- _c36: integer (nullable = true)\n",
      "\n"
     ]
    }
   ],
   "source": [
    "rawstrokeDF.printSchema()"
   ]
  },
  {
   "cell_type": "code",
   "execution_count": 8,
   "id": "f40bf7ec",
   "metadata": {},
   "outputs": [
    {
     "data": {
      "text/plain": [
       "307497"
      ]
     },
     "execution_count": 8,
     "metadata": {},
     "output_type": "execute_result"
    }
   ],
   "source": [
    "rawstrokeDF.count()"
   ]
  },
  {
   "cell_type": "code",
   "execution_count": 9,
   "id": "8f871cbe",
   "metadata": {},
   "outputs": [],
   "source": [
    "from pyspark.sql.types import DoubleType\n",
    "from pyspark.sql.functions import col\n",
    "\n",
    "# df2 = rawstrokeDF.withColumn(\"_c0\",rawstrokeDF._c0.cast('double'))"
   ]
  },
  {
   "cell_type": "code",
   "execution_count": 10,
   "id": "9b25b58b",
   "metadata": {},
   "outputs": [],
   "source": [
    "intcols = ['_c0','_c5','_c13','_c14','_c15','_c16','_c17','_c18','_c19','_c21','_c22','_c23','_c24','_c26','_c27','_c28','_c29','_c30','_c31','_c32','_c33','_c34','_c35','_c36']\n",
    "for col_name in intcols:\n",
    "    rawstrokeDF=rawstrokeDF.withColumn(col_name,col(col_name).cast('double'))"
   ]
  },
  {
   "cell_type": "code",
   "execution_count": 11,
   "id": "4d381463",
   "metadata": {},
   "outputs": [
    {
     "name": "stdout",
     "output_type": "stream",
     "text": [
      "root\n",
      " |-- _c0: double (nullable = true)\n",
      " |-- _c1: string (nullable = true)\n",
      " |-- _c2: string (nullable = true)\n",
      " |-- _c3: string (nullable = true)\n",
      " |-- _c4: string (nullable = true)\n",
      " |-- _c5: double (nullable = true)\n",
      " |-- _c6: double (nullable = true)\n",
      " |-- _c7: double (nullable = true)\n",
      " |-- _c8: double (nullable = true)\n",
      " |-- _c9: string (nullable = true)\n",
      " |-- _c10: string (nullable = true)\n",
      " |-- _c11: string (nullable = true)\n",
      " |-- _c12: string (nullable = true)\n",
      " |-- _c13: double (nullable = true)\n",
      " |-- _c14: double (nullable = true)\n",
      " |-- _c15: double (nullable = true)\n",
      " |-- _c16: double (nullable = true)\n",
      " |-- _c17: double (nullable = true)\n",
      " |-- _c18: double (nullable = true)\n",
      " |-- _c19: double (nullable = true)\n",
      " |-- _c20: double (nullable = true)\n",
      " |-- _c21: double (nullable = true)\n",
      " |-- _c22: double (nullable = true)\n",
      " |-- _c23: double (nullable = true)\n",
      " |-- _c24: double (nullable = true)\n",
      " |-- _c25: string (nullable = true)\n",
      " |-- _c26: double (nullable = true)\n",
      " |-- _c27: double (nullable = true)\n",
      " |-- _c28: double (nullable = true)\n",
      " |-- _c29: double (nullable = true)\n",
      " |-- _c30: double (nullable = true)\n",
      " |-- _c31: double (nullable = true)\n",
      " |-- _c32: double (nullable = true)\n",
      " |-- _c33: double (nullable = true)\n",
      " |-- _c34: double (nullable = true)\n",
      " |-- _c35: double (nullable = true)\n",
      " |-- _c36: double (nullable = true)\n",
      "\n"
     ]
    }
   ],
   "source": [
    "rawstrokeDF.printSchema()"
   ]
  },
  {
   "cell_type": "code",
   "execution_count": 12,
   "id": "3ab6931d",
   "metadata": {},
   "outputs": [
    {
     "data": {
      "text/plain": [
       "pyspark.sql.dataframe.DataFrame"
      ]
     },
     "execution_count": 12,
     "metadata": {},
     "output_type": "execute_result"
    }
   ],
   "source": [
    "type(rawstrokeDF)"
   ]
  },
  {
   "cell_type": "code",
   "execution_count": 13,
   "id": "bd680e91",
   "metadata": {},
   "outputs": [
    {
     "name": "stdout",
     "output_type": "stream",
     "text": [
      "Requirement already satisfied: pyArrow in c:\\users\\visha\\anaconda\\lib\\site-packages (7.0.0)\n",
      "Requirement already satisfied: numpy>=1.16.6 in c:\\users\\visha\\anaconda\\lib\\site-packages (from pyArrow) (1.20.1)\n"
     ]
    }
   ],
   "source": [
    "!pip install pyArrow\n"
   ]
  },
  {
   "cell_type": "code",
   "execution_count": 14,
   "id": "f0cab2b6",
   "metadata": {},
   "outputs": [
    {
     "name": "stderr",
     "output_type": "stream",
     "text": [
      "WARNING:root:'PYARROW_IGNORE_TIMEZONE' environment variable was not set. It is required to set this environment variable to '1' in both driver and executor sides if you use pyarrow>=2.0.0. pandas-on-Spark will set it for you but it does not work if there is a Spark context already launched.\n"
     ]
    }
   ],
   "source": [
    "df1=rawstrokeDF.to_pandas_on_spark()\n"
   ]
  },
  {
   "cell_type": "code",
   "execution_count": 15,
   "id": "a1915260",
   "metadata": {},
   "outputs": [],
   "source": [
    "df1.columns = [\"Target\",\"NAME_CONTRACT_TYPE\",\"CODE_GENDER\",\"FLAG_OWN_CAR\",\"FLAG_OWN_REALTY\",\"CNT_CHILDREN\",\"AMT_INCOME_TOTAL\",\"AMT_CREDIT\",\"AMT_ANNUITY\",\n",
    "             \"NAME_INCOME_TYPE\",\"NAME_EDUCATION_TYPE\",\"NAME_FAMILY_STATUS\",\"NAME_HOUSING_TYPE\",\"DAYS_BIRTH\",\"DAYS_EMPLOYED\",\"OWN_CAR_AGE\",\"FLAG_MOBIL\",\n",
    "             \"FLAG_EMP_PHONE\",\"FLAG_WORK_PHONE\",\"FLAG_CONT_MOBILE\",\"FLAG_PHONE\",\"OCCUPATION_TYPE\",\"CNT_FAM_MEMBERS\",\"REGION_RATING_CLIENT\",\n",
    "             \"REGION_RATING_CLIENT_W_CITY\",\"REG_REGION_NOT_LIVE_REGION\",\"REG_REGION_NOT_WORK_REGION\",\"ORGANIZATION_TYPE\",\"FLAG_DOCUMENT_2\",\n",
    "             \"FLAG_DOCUMENT_3\",\"FLAG_DOCUMENT_4\",\"FLAG_DOCUMENT_5\",\"FLAG_DOCUMENT_6\",\"FLAG_DOCUMENT_7\",\"FLAG_DOCUMENT_8\",\"FLAG_DOCUMENT_9\",\n",
    "             \"FLAG_DOCUMENT_10\"]\n"
   ]
  },
  {
   "cell_type": "code",
   "execution_count": 16,
   "id": "5a4efc05",
   "metadata": {},
   "outputs": [
    {
     "data": {
      "text/html": [
       "<div>\n",
       "<style scoped>\n",
       "    .dataframe tbody tr th:only-of-type {\n",
       "        vertical-align: middle;\n",
       "    }\n",
       "\n",
       "    .dataframe tbody tr th {\n",
       "        vertical-align: top;\n",
       "    }\n",
       "\n",
       "    .dataframe thead th {\n",
       "        text-align: right;\n",
       "    }\n",
       "</style>\n",
       "<table border=\"1\" class=\"dataframe\">\n",
       "  <thead>\n",
       "    <tr style=\"text-align: right;\">\n",
       "      <th></th>\n",
       "      <th>Target</th>\n",
       "      <th>NAME_CONTRACT_TYPE</th>\n",
       "      <th>CODE_GENDER</th>\n",
       "      <th>FLAG_OWN_CAR</th>\n",
       "      <th>FLAG_OWN_REALTY</th>\n",
       "      <th>CNT_CHILDREN</th>\n",
       "      <th>AMT_INCOME_TOTAL</th>\n",
       "      <th>AMT_CREDIT</th>\n",
       "      <th>AMT_ANNUITY</th>\n",
       "      <th>NAME_INCOME_TYPE</th>\n",
       "      <th>NAME_EDUCATION_TYPE</th>\n",
       "      <th>NAME_FAMILY_STATUS</th>\n",
       "      <th>NAME_HOUSING_TYPE</th>\n",
       "      <th>DAYS_BIRTH</th>\n",
       "      <th>DAYS_EMPLOYED</th>\n",
       "      <th>OWN_CAR_AGE</th>\n",
       "      <th>FLAG_MOBIL</th>\n",
       "      <th>FLAG_EMP_PHONE</th>\n",
       "      <th>FLAG_WORK_PHONE</th>\n",
       "      <th>FLAG_CONT_MOBILE</th>\n",
       "      <th>FLAG_PHONE</th>\n",
       "      <th>OCCUPATION_TYPE</th>\n",
       "      <th>CNT_FAM_MEMBERS</th>\n",
       "      <th>REGION_RATING_CLIENT</th>\n",
       "      <th>REGION_RATING_CLIENT_W_CITY</th>\n",
       "      <th>REG_REGION_NOT_LIVE_REGION</th>\n",
       "      <th>REG_REGION_NOT_WORK_REGION</th>\n",
       "      <th>ORGANIZATION_TYPE</th>\n",
       "      <th>FLAG_DOCUMENT_2</th>\n",
       "      <th>FLAG_DOCUMENT_3</th>\n",
       "      <th>FLAG_DOCUMENT_4</th>\n",
       "      <th>FLAG_DOCUMENT_5</th>\n",
       "      <th>FLAG_DOCUMENT_6</th>\n",
       "      <th>FLAG_DOCUMENT_7</th>\n",
       "      <th>FLAG_DOCUMENT_8</th>\n",
       "      <th>FLAG_DOCUMENT_9</th>\n",
       "      <th>FLAG_DOCUMENT_10</th>\n",
       "    </tr>\n",
       "  </thead>\n",
       "  <tbody>\n",
       "    <tr>\n",
       "      <th>0</th>\n",
       "      <td>1.0</td>\n",
       "      <td>Cash loans</td>\n",
       "      <td>M</td>\n",
       "      <td>N</td>\n",
       "      <td>Y</td>\n",
       "      <td>0.0</td>\n",
       "      <td>202500.0</td>\n",
       "      <td>406597.5</td>\n",
       "      <td>24700.5</td>\n",
       "      <td>Working</td>\n",
       "      <td>Secondary / secondary special</td>\n",
       "      <td>Single / not married</td>\n",
       "      <td>House / apartment</td>\n",
       "      <td>-9461.0</td>\n",
       "      <td>-637.0</td>\n",
       "      <td>1.0</td>\n",
       "      <td>1.0</td>\n",
       "      <td>0.0</td>\n",
       "      <td>1.0</td>\n",
       "      <td>1.0</td>\n",
       "      <td>1.0</td>\n",
       "      <td>2.0</td>\n",
       "      <td>2.0</td>\n",
       "      <td>0.0</td>\n",
       "      <td>0.0</td>\n",
       "      <td>Business Entity Type 3</td>\n",
       "      <td>0.0</td>\n",
       "      <td>1.0</td>\n",
       "      <td>0.0</td>\n",
       "      <td>0.0</td>\n",
       "      <td>0.0</td>\n",
       "      <td>0.0</td>\n",
       "      <td>0.0</td>\n",
       "      <td>0.0</td>\n",
       "      <td>0.0</td>\n",
       "      <td>0.0</td>\n",
       "      <td>0.0</td>\n",
       "    </tr>\n",
       "    <tr>\n",
       "      <th>1</th>\n",
       "      <td>0.0</td>\n",
       "      <td>Cash loans</td>\n",
       "      <td>F</td>\n",
       "      <td>N</td>\n",
       "      <td>N</td>\n",
       "      <td>0.0</td>\n",
       "      <td>270000.0</td>\n",
       "      <td>1293502.5</td>\n",
       "      <td>35698.5</td>\n",
       "      <td>State servant</td>\n",
       "      <td>Higher education</td>\n",
       "      <td>Married</td>\n",
       "      <td>House / apartment</td>\n",
       "      <td>-16765.0</td>\n",
       "      <td>-1188.0</td>\n",
       "      <td>1.0</td>\n",
       "      <td>1.0</td>\n",
       "      <td>0.0</td>\n",
       "      <td>1.0</td>\n",
       "      <td>1.0</td>\n",
       "      <td>2.0</td>\n",
       "      <td>1.0</td>\n",
       "      <td>1.0</td>\n",
       "      <td>0.0</td>\n",
       "      <td>0.0</td>\n",
       "      <td>School</td>\n",
       "      <td>0.0</td>\n",
       "      <td>1.0</td>\n",
       "      <td>0.0</td>\n",
       "      <td>0.0</td>\n",
       "      <td>0.0</td>\n",
       "      <td>0.0</td>\n",
       "      <td>0.0</td>\n",
       "      <td>0.0</td>\n",
       "      <td>0.0</td>\n",
       "      <td>0.0</td>\n",
       "      <td>0.0</td>\n",
       "    </tr>\n",
       "    <tr>\n",
       "      <th>2</th>\n",
       "      <td>0.0</td>\n",
       "      <td>Revolving loans</td>\n",
       "      <td>M</td>\n",
       "      <td>Y</td>\n",
       "      <td>Y</td>\n",
       "      <td>0.0</td>\n",
       "      <td>67500.0</td>\n",
       "      <td>135000.0</td>\n",
       "      <td>6750.0</td>\n",
       "      <td>Working</td>\n",
       "      <td>Secondary / secondary special</td>\n",
       "      <td>Single / not married</td>\n",
       "      <td>House / apartment</td>\n",
       "      <td>-19046.0</td>\n",
       "      <td>-225.0</td>\n",
       "      <td>1.0</td>\n",
       "      <td>1.0</td>\n",
       "      <td>1.0</td>\n",
       "      <td>1.0</td>\n",
       "      <td>1.0</td>\n",
       "      <td>1.0</td>\n",
       "      <td>2.0</td>\n",
       "      <td>2.0</td>\n",
       "      <td>0.0</td>\n",
       "      <td>0.0</td>\n",
       "      <td>Government</td>\n",
       "      <td>0.0</td>\n",
       "      <td>0.0</td>\n",
       "      <td>0.0</td>\n",
       "      <td>0.0</td>\n",
       "      <td>0.0</td>\n",
       "      <td>0.0</td>\n",
       "      <td>0.0</td>\n",
       "      <td>0.0</td>\n",
       "      <td>0.0</td>\n",
       "      <td>0.0</td>\n",
       "      <td>0.0</td>\n",
       "    </tr>\n",
       "    <tr>\n",
       "      <th>3</th>\n",
       "      <td>0.0</td>\n",
       "      <td>Cash loans</td>\n",
       "      <td>F</td>\n",
       "      <td>N</td>\n",
       "      <td>Y</td>\n",
       "      <td>0.0</td>\n",
       "      <td>135000.0</td>\n",
       "      <td>312682.5</td>\n",
       "      <td>29686.5</td>\n",
       "      <td>Working</td>\n",
       "      <td>Secondary / secondary special</td>\n",
       "      <td>Civil marriage</td>\n",
       "      <td>House / apartment</td>\n",
       "      <td>-19005.0</td>\n",
       "      <td>-3039.0</td>\n",
       "      <td>1.0</td>\n",
       "      <td>1.0</td>\n",
       "      <td>0.0</td>\n",
       "      <td>1.0</td>\n",
       "      <td>0.0</td>\n",
       "      <td>2.0</td>\n",
       "      <td>2.0</td>\n",
       "      <td>2.0</td>\n",
       "      <td>0.0</td>\n",
       "      <td>0.0</td>\n",
       "      <td>Business Entity Type 3</td>\n",
       "      <td>0.0</td>\n",
       "      <td>1.0</td>\n",
       "      <td>0.0</td>\n",
       "      <td>0.0</td>\n",
       "      <td>0.0</td>\n",
       "      <td>0.0</td>\n",
       "      <td>0.0</td>\n",
       "      <td>0.0</td>\n",
       "      <td>0.0</td>\n",
       "      <td>0.0</td>\n",
       "      <td>0.0</td>\n",
       "    </tr>\n",
       "    <tr>\n",
       "      <th>4</th>\n",
       "      <td>0.0</td>\n",
       "      <td>Cash loans</td>\n",
       "      <td>M</td>\n",
       "      <td>N</td>\n",
       "      <td>Y</td>\n",
       "      <td>0.0</td>\n",
       "      <td>121500.0</td>\n",
       "      <td>513000.0</td>\n",
       "      <td>21865.5</td>\n",
       "      <td>Working</td>\n",
       "      <td>Secondary / secondary special</td>\n",
       "      <td>Single / not married</td>\n",
       "      <td>House / apartment</td>\n",
       "      <td>-19932.0</td>\n",
       "      <td>-3038.0</td>\n",
       "      <td>1.0</td>\n",
       "      <td>1.0</td>\n",
       "      <td>0.0</td>\n",
       "      <td>1.0</td>\n",
       "      <td>0.0</td>\n",
       "      <td>1.0</td>\n",
       "      <td>2.0</td>\n",
       "      <td>2.0</td>\n",
       "      <td>0.0</td>\n",
       "      <td>0.0</td>\n",
       "      <td>Religion</td>\n",
       "      <td>0.0</td>\n",
       "      <td>0.0</td>\n",
       "      <td>0.0</td>\n",
       "      <td>0.0</td>\n",
       "      <td>0.0</td>\n",
       "      <td>0.0</td>\n",
       "      <td>1.0</td>\n",
       "      <td>0.0</td>\n",
       "      <td>0.0</td>\n",
       "      <td>0.0</td>\n",
       "      <td>0.0</td>\n",
       "    </tr>\n",
       "  </tbody>\n",
       "</table>\n",
       "</div>"
      ],
      "text/plain": [
       "   Target NAME_CONTRACT_TYPE CODE_GENDER FLAG_OWN_CAR FLAG_OWN_REALTY  CNT_CHILDREN  AMT_INCOME_TOTAL  AMT_CREDIT  AMT_ANNUITY NAME_INCOME_TYPE            NAME_EDUCATION_TYPE    NAME_FAMILY_STATUS  NAME_HOUSING_TYPE  DAYS_BIRTH  DAYS_EMPLOYED  OWN_CAR_AGE  FLAG_MOBIL  FLAG_EMP_PHONE  FLAG_WORK_PHONE  FLAG_CONT_MOBILE  FLAG_PHONE  OCCUPATION_TYPE  CNT_FAM_MEMBERS  REGION_RATING_CLIENT  REGION_RATING_CLIENT_W_CITY REG_REGION_NOT_LIVE_REGION  REG_REGION_NOT_WORK_REGION  ORGANIZATION_TYPE  FLAG_DOCUMENT_2  FLAG_DOCUMENT_3  FLAG_DOCUMENT_4  FLAG_DOCUMENT_5  FLAG_DOCUMENT_6  FLAG_DOCUMENT_7  FLAG_DOCUMENT_8  FLAG_DOCUMENT_9  FLAG_DOCUMENT_10\n",
       "0     1.0         Cash loans           M            N               Y           0.0          202500.0    406597.5      24700.5          Working  Secondary / secondary special  Single / not married  House / apartment     -9461.0         -637.0          1.0         1.0             0.0              1.0               1.0         1.0              2.0              2.0                   0.0                          0.0     Business Entity Type 3                         0.0                1.0              0.0              0.0              0.0              0.0              0.0              0.0              0.0              0.0               0.0\n",
       "1     0.0         Cash loans           F            N               N           0.0          270000.0   1293502.5      35698.5    State servant               Higher education               Married  House / apartment    -16765.0        -1188.0          1.0         1.0             0.0              1.0               1.0         2.0              1.0              1.0                   0.0                          0.0                     School                         0.0                1.0              0.0              0.0              0.0              0.0              0.0              0.0              0.0              0.0               0.0\n",
       "2     0.0    Revolving loans           M            Y               Y           0.0           67500.0    135000.0       6750.0          Working  Secondary / secondary special  Single / not married  House / apartment    -19046.0         -225.0          1.0         1.0             1.0              1.0               1.0         1.0              2.0              2.0                   0.0                          0.0                 Government                         0.0                0.0              0.0              0.0              0.0              0.0              0.0              0.0              0.0              0.0               0.0\n",
       "3     0.0         Cash loans           F            N               Y           0.0          135000.0    312682.5      29686.5          Working  Secondary / secondary special        Civil marriage  House / apartment    -19005.0        -3039.0          1.0         1.0             0.0              1.0               0.0         2.0              2.0              2.0                   0.0                          0.0     Business Entity Type 3                         0.0                1.0              0.0              0.0              0.0              0.0              0.0              0.0              0.0              0.0               0.0\n",
       "4     0.0         Cash loans           M            N               Y           0.0          121500.0    513000.0      21865.5          Working  Secondary / secondary special  Single / not married  House / apartment    -19932.0        -3038.0          1.0         1.0             0.0              1.0               0.0         1.0              2.0              2.0                   0.0                          0.0                   Religion                         0.0                0.0              0.0              0.0              0.0              0.0              1.0              0.0              0.0              0.0               0.0"
      ]
     },
     "execution_count": 16,
     "metadata": {},
     "output_type": "execute_result"
    }
   ],
   "source": [
    "df1.head(5)"
   ]
  },
  {
   "cell_type": "code",
   "execution_count": 17,
   "id": "36d535df",
   "metadata": {},
   "outputs": [
    {
     "data": {
      "text/plain": [
       "pyspark.pandas.frame.DataFrame"
      ]
     },
     "execution_count": 17,
     "metadata": {},
     "output_type": "execute_result"
    }
   ],
   "source": [
    "type(df1)"
   ]
  },
  {
   "cell_type": "code",
   "execution_count": 18,
   "id": "a3b849a1",
   "metadata": {},
   "outputs": [],
   "source": [
    "rawstrokeDF = df1.to_spark()\n"
   ]
  },
  {
   "cell_type": "code",
   "execution_count": 19,
   "id": "920c4994",
   "metadata": {},
   "outputs": [
    {
     "data": {
      "text/plain": [
       "pyspark.sql.dataframe.DataFrame"
      ]
     },
     "execution_count": 19,
     "metadata": {},
     "output_type": "execute_result"
    }
   ],
   "source": [
    "type(rawstrokeDF)"
   ]
  },
  {
   "cell_type": "code",
   "execution_count": 20,
   "id": "900f9e6d",
   "metadata": {},
   "outputs": [
    {
     "name": "stdout",
     "output_type": "stream",
     "text": [
      "root\n",
      " |-- Target: double (nullable = true)\n",
      " |-- NAME_CONTRACT_TYPE: string (nullable = true)\n",
      " |-- CODE_GENDER: string (nullable = true)\n",
      " |-- FLAG_OWN_CAR: string (nullable = true)\n",
      " |-- FLAG_OWN_REALTY: string (nullable = true)\n",
      " |-- CNT_CHILDREN: double (nullable = true)\n",
      " |-- AMT_INCOME_TOTAL: double (nullable = true)\n",
      " |-- AMT_CREDIT: double (nullable = true)\n",
      " |-- AMT_ANNUITY: double (nullable = true)\n",
      " |-- NAME_INCOME_TYPE: string (nullable = true)\n",
      " |-- NAME_EDUCATION_TYPE: string (nullable = true)\n",
      " |-- NAME_FAMILY_STATUS: string (nullable = true)\n",
      " |-- NAME_HOUSING_TYPE: string (nullable = true)\n",
      " |-- DAYS_BIRTH: double (nullable = true)\n",
      " |-- DAYS_EMPLOYED: double (nullable = true)\n",
      " |-- OWN_CAR_AGE: double (nullable = true)\n",
      " |-- FLAG_MOBIL: double (nullable = true)\n",
      " |-- FLAG_EMP_PHONE: double (nullable = true)\n",
      " |-- FLAG_WORK_PHONE: double (nullable = true)\n",
      " |-- FLAG_CONT_MOBILE: double (nullable = true)\n",
      " |-- FLAG_PHONE: double (nullable = true)\n",
      " |-- OCCUPATION_TYPE: double (nullable = true)\n",
      " |-- CNT_FAM_MEMBERS: double (nullable = true)\n",
      " |-- REGION_RATING_CLIENT: double (nullable = true)\n",
      " |-- REGION_RATING_CLIENT_W_CITY: double (nullable = true)\n",
      " |-- REG_REGION_NOT_LIVE_REGION: string (nullable = true)\n",
      " |-- REG_REGION_NOT_WORK_REGION: double (nullable = true)\n",
      " |-- ORGANIZATION_TYPE: double (nullable = true)\n",
      " |-- FLAG_DOCUMENT_2: double (nullable = true)\n",
      " |-- FLAG_DOCUMENT_3: double (nullable = true)\n",
      " |-- FLAG_DOCUMENT_4: double (nullable = true)\n",
      " |-- FLAG_DOCUMENT_5: double (nullable = true)\n",
      " |-- FLAG_DOCUMENT_6: double (nullable = true)\n",
      " |-- FLAG_DOCUMENT_7: double (nullable = true)\n",
      " |-- FLAG_DOCUMENT_8: double (nullable = true)\n",
      " |-- FLAG_DOCUMENT_9: double (nullable = true)\n",
      " |-- FLAG_DOCUMENT_10: double (nullable = true)\n",
      "\n"
     ]
    }
   ],
   "source": [
    "rawstrokeDF.printSchema()"
   ]
  },
  {
   "cell_type": "code",
   "execution_count": 21,
   "id": "9a706214",
   "metadata": {},
   "outputs": [],
   "source": [
    "#from pyspark.ml.feature import OneHotEncoder,StringIndexer"
   ]
  },
  {
   "cell_type": "code",
   "execution_count": 22,
   "id": "07b18fb9",
   "metadata": {},
   "outputs": [],
   "source": [
    "# #Create StringIndexer Object \n",
    "# SI_NAME_CONTRACT_TYPE = StringIndexer(inputCol=\"NAME_CONTRACT_TYPE\",outputCol=\"NAME_CONTRACT_TYPE_Index\")\n",
    "# SI_CODE_GENDER = StringIndexer(inputCol=\"CODE_GENDER\",outputCol=\"CODE_GENDER_Index\")\n",
    "# SI_FLAG_OWN_CAR= StringIndexer(inputCol=\"FLAG_OWN_CAR\",outputCol=\"FLAG_OWN_CAR_Index\")\n",
    "# SI_FLAG_OWN_REALTY = StringIndexer(inputCol=\"FLAG_OWN_REALTY\",outputCol=\"FLAG_OWN_REALTY_Index\")\n",
    "# SI_NAME_INCOME_TYPE= StringIndexer(inputCol=\"NAME_INCOME_TYPE\",outputCol=\"NAME_INCOME_TYPE_Index\")\n",
    "# SI_NAME_EDUCATION_TYPE= StringIndexer(inputCol=\"NAME_EDUCATION_TYPE\",outputCol=\"NAME_EDUCATION_TYPE_Index\")\n",
    "# SI_NAME_FAMILY_STATUS = StringIndexer(inputCol=\"NAME_FAMILY_STATUS\",outputCol=\"NAME_FAMILY_STATUS_Index\")\n",
    "# SI_NAME_HOUSING_TYPE = StringIndexer(inputCol=\"NAME_HOUSING_TYPE\",outputCol=\"NAME_HOUSING_TYPE_Index\")\n",
    "# SI_REG_REGION_NOT_LIVE_REGION = StringIndexer(inputCol=\"REG_REGION_NOT_LIVE_REGION\",outputCol=\"REG_REGION_NOT_LIVE_REGION_Index\")\n"
   ]
  },
  {
   "cell_type": "code",
   "execution_count": 23,
   "id": "f010fd76",
   "metadata": {},
   "outputs": [],
   "source": [
    "# #transform the data \n",
    "# rawstrokeDF = SI_NAME_CONTRACT_TYPE.fit(rawstrokeDF).transform(rawstrokeDF)\n",
    "# rawstrokeDF = SI_CODE_GENDER.fit(rawstrokeDF).transform(rawstrokeDF)\n",
    "# rawstrokeDF = SI_FLAG_OWN_CAR.fit(rawstrokeDF).transform(rawstrokeDF)\n",
    "# rawstrokeDF = SI_FLAG_OWN_REALTY.fit(rawstrokeDF).transform(rawstrokeDF)\n",
    "# rawstrokeDF = SI_NAME_INCOME_TYPE.fit(rawstrokeDF).transform(rawstrokeDF)\n",
    "# rawstrokeDF = SI_NAME_EDUCATION_TYPE.fit(rawstrokeDF).transform(rawstrokeDF)\n",
    "# rawstrokeDF = SI_NAME_FAMILY_STATUS.fit(rawstrokeDF).transform(rawstrokeDF)\n",
    "# rawstrokeDF = SI_NAME_HOUSING_TYPE.fit(rawstrokeDF).transform(rawstrokeDF)\n",
    "# rawstrokeDF = SI_REG_REGION_NOT_LIVE_REGION.fit(rawstrokeDF).transform(rawstrokeDF)\n"
   ]
  },
  {
   "cell_type": "code",
   "execution_count": 24,
   "id": "4b0b1d94",
   "metadata": {},
   "outputs": [],
   "source": [
    "#OHE = OneHotEncoder(inputCols =[\"NAME_CONTRACT_TYPE_Index\",\"CODE_GENDER_Index\",\"FLAG_OWN_CAR_Index\",\"FLAG_OWN_REALTY_Index\",\"NAME_INCOME_TYPE_Index\",\"NAME_EDUCATION_TYPE_Index\",\"NAME_FAMILY_STATUS_Index\",\"NAME_HOUSING_TYPE_Index\",\"REG_REGION_NOT_LIVE_REGION_Index\"], outputCols=[\"NAME_CONTRACT_TYPE_OHE\",\"CODE_GENDER_OHE\",\"FLAG_OWN_CAR_OHE\",\"FLAG_OWN_REALTY_OHE\",\"NAME_INCOME_TYPE_OHE\",\"NAME_EDUCATION_TYPE_OHE\",\"NAME_FAMILY_STATUS_OHE\",\"NAME_HOUSING_TYPE_OHE\",\"REG_REGION_NOT_LIVE_REGION_OHE\"])"
   ]
  },
  {
   "cell_type": "code",
   "execution_count": 25,
   "id": "5a315c61",
   "metadata": {},
   "outputs": [],
   "source": [
    "#rawstrokeDF= OHE.fit(rawstrokeDF).transform(rawstrokeDF)\n"
   ]
  },
  {
   "cell_type": "code",
   "execution_count": 26,
   "id": "a5249f02",
   "metadata": {},
   "outputs": [],
   "source": [
    "#rawstrokeDF.show(5,False)"
   ]
  },
  {
   "cell_type": "code",
   "execution_count": 27,
   "id": "7d8a143d",
   "metadata": {},
   "outputs": [],
   "source": [
    "#view and transform data \n",
    "#rawstrokeDF.select(\"NAME_CONTRACT_TYPE_Index\",\"CODE_GENDER_Index\",\"FLAG_OWN_CAR_Index\",\"FLAG_OWN_REALTY_Index\",\"NAME_INCOME_TYPE_Index\",\"NAME_EDUCATION_TYPE_Index\",\"NAME_FAMILY_STATUS_Index\",\"NAME_HOUSING_TYPE_Index\",\"REG_REGION_NOT_LIVE_REGION_Index\",\"NAME_CONTRACT_TYPE_OHE\",\"CODE_GENDER_OHE\",\"FLAG_OWN_CAR_OHE\",\"FLAG_OWN_REALTY_OHE\",\"NAME_INCOME_TYPE_OHE\",\"NAME_EDUCATION_TYPE_OHE\",\"NAME_FAMILY_STATUS_OHE\",\"NAME_HOUSING_TYPE_OHE\",\"REG_REGION_NOT_LIVE_REGION_OHE\").show(10)\n"
   ]
  },
  {
   "cell_type": "code",
   "execution_count": 28,
   "id": "cb49675c",
   "metadata": {},
   "outputs": [],
   "source": [
    "#from pyspark.ml.feature import VectorIndexer"
   ]
  },
  {
   "cell_type": "code",
   "execution_count": 29,
   "id": "176c5ff7",
   "metadata": {},
   "outputs": [],
   "source": [
    "#features_col =[\"Target\",\"CNT_CHILDREN\",\"AMT_INCOME_TOTAL\",\"AMT_CREDIT\",\"AMT_ANNUITY\",\"DAYS_BIRTH\",\"DAYS_EMPLOYED\",\"OWN_CAR_AGE\",\"FLAG_MOBIL\",\"FLAG_EMP_PHONE\",\"FLAG_WORK_PHONE\",\"FLAG_CONT_MOBILE\",\"FLAG_PHONE\",\"OCCUPATION_TYPE\",\"CNT_FAM_MEMBERS\",\"REGION_RATING_CLIENT\",\"REGION_RATING_CLIENT_W_CITY\",\"REG_REGION_NOT_WORK_REGION\",\"ORGANIZATION_TYPE\",\"FLAG_DOCUMENT_2\",\"FLAG_DOCUMENT_3\",\"FLAG_DOCUMENT_4\",\"FLAG_DOCUMENT_5\",\"FLAG_DOCUMENT_6\",\"FLAG_DOCUMENT_7\",\"FLAG_DOCUMENT_8\",\"FLAG_DOCUMENT_9\",\"FLAG_DOCUMENT_10\", \"NAME_CONTRACT_TYPE_OHE\",\"CODE_GENDER_OHE\",\"FLAG_OWN_CAR_OHE\",\"FLAG_OWN_REALTY_OHE\",\"NAME_INCOME_TYPE_OHE\",\"NAME_EDUCATION_TYPE_OHE\",\"NAME_FAMILY_STATUS_OHE\",\"NAME_HOUSING_TYPE_OHE\",\"REG_REGION_NOT_LIVE_REGION_OHE\"]\n"
   ]
  },
  {
   "cell_type": "code",
   "execution_count": 30,
   "id": "6e251aa0",
   "metadata": {},
   "outputs": [],
   "source": [
    "cat_features=[\"NAME_CONTRACT_TYPE\",\"CODE_GENDER\", \"FLAG_OWN_CAR\",\"FLAG_OWN_REALTY\", \"NAME_INCOME_TYPE\",\"NAME_EDUCATION_TYPE\", \"NAME_FAMILY_STATUS\",\"NAME_HOUSING_TYPE\", \"REG_REGION_NOT_LIVE_REGION\"]"
   ]
  },
  {
   "cell_type": "code",
   "execution_count": 31,
   "id": "58125584",
   "metadata": {},
   "outputs": [
    {
     "data": {
      "text/plain": [
       "9"
      ]
     },
     "execution_count": 31,
     "metadata": {},
     "output_type": "execute_result"
    }
   ],
   "source": [
    "len(cat_features)"
   ]
  },
  {
   "cell_type": "code",
   "execution_count": 32,
   "id": "ffbf81f8",
   "metadata": {},
   "outputs": [],
   "source": [
    "cont_features=[\"Target\",\"CNT_CHILDREN\",\"AMT_INCOME_TOTAL\",\"AMT_CREDIT\",\"AMT_ANNUITY\",\"DAYS_BIRTH\",\"DAYS_EMPLOYED\",\"OWN_CAR_AGE\",\"FLAG_MOBIL\",\"FLAG_EMP_PHONE\",\"FLAG_WORK_PHONE\",\"FLAG_CONT_MOBILE\",\"FLAG_PHONE\",\"OCCUPATION_TYPE\",\"CNT_FAM_MEMBERS\",\"REGION_RATING_CLIENT\",\"REGION_RATING_CLIENT_W_CITY\",\"REG_REGION_NOT_WORK_REGION\",\"ORGANIZATION_TYPE\",\"FLAG_DOCUMENT_2\",\"FLAG_DOCUMENT_3\",\"FLAG_DOCUMENT_4\",\"FLAG_DOCUMENT_5\",\"FLAG_DOCUMENT_6\",\"FLAG_DOCUMENT_7\",\"FLAG_DOCUMENT_8\",\"FLAG_DOCUMENT_9\",\"FLAG_DOCUMENT_10\"]\n"
   ]
  },
  {
   "cell_type": "code",
   "execution_count": 33,
   "id": "dd01221a",
   "metadata": {},
   "outputs": [
    {
     "data": {
      "text/plain": [
       "28"
      ]
     },
     "execution_count": 33,
     "metadata": {},
     "output_type": "execute_result"
    }
   ],
   "source": [
    "len(cont_features)"
   ]
  },
  {
   "cell_type": "code",
   "execution_count": 34,
   "id": "79f88230",
   "metadata": {},
   "outputs": [],
   "source": [
    "from pyspark.sql.functions import col"
   ]
  },
  {
   "cell_type": "code",
   "execution_count": 35,
   "id": "a7040818",
   "metadata": {},
   "outputs": [],
   "source": [
    "from pyspark.ml.feature import OneHotEncoder,StringIndexer,VectorAssembler\n"
   ]
  },
  {
   "cell_type": "code",
   "execution_count": 36,
   "id": "35930505",
   "metadata": {},
   "outputs": [],
   "source": [
    "from pyspark.ml.feature import OneHotEncoder,StringIndexer,VectorAssembler\n",
    "\n",
    "# defining an empty list to hold transforming stages\n",
    "# to prepare pipelines\n",
    "stages=[]\n",
    "\n",
    "\n",
    "# Encoding categorical features\n",
    "for catcol in cat_features:\n",
    "    indexer=StringIndexer(inputCol=catcol,outputCol=catcol+'_index').setHandleInvalid(\"keep\")\n",
    "    encoder=OneHotEncoder(inputCols=[indexer.getOutputCol()],outputCols=[catcol+\"_enc\"])\n",
    "    stages+=[indexer,encoder]"
   ]
  },
  {
   "cell_type": "code",
   "execution_count": 37,
   "id": "fcc5d5fd",
   "metadata": {},
   "outputs": [],
   "source": [
    "assemblerInputs=[col+\"_enc\" for col in cat_features]+cont_features\n",
    "assembler=VectorAssembler(inputCols=assemblerInputs,outputCol=\"features\")\n",
    "stages+=[assembler]"
   ]
  },
  {
   "cell_type": "code",
   "execution_count": 38,
   "id": "bd3d8e9b",
   "metadata": {},
   "outputs": [],
   "source": [
    "# Scaling the features vector\n",
    "from pyspark.ml.feature import MinMaxScaler\n",
    "scaler = MinMaxScaler().setInputCol(\"features\").setOutputCol(\"scaled_features\")\n",
    "stages+=[scaler]"
   ]
  },
  {
   "cell_type": "code",
   "execution_count": 39,
   "id": "94c79a1a",
   "metadata": {},
   "outputs": [],
   "source": [
    "# Building a spark ml pipeline to transform the data\n",
    "from pyspark.ml import Pipeline\n",
    "pipeline = Pipeline(stages=stages)\n",
    "\n",
    "# Fit the pipeline to training documents.\n",
    "finalDF = pipeline.fit(rawstrokeDF).transform(rawstrokeDF)"
   ]
  },
  {
   "cell_type": "code",
   "execution_count": 40,
   "id": "1110b248",
   "metadata": {},
   "outputs": [
    {
     "name": "stdout",
     "output_type": "stream",
     "text": [
      "root\n",
      " |-- Target: double (nullable = true)\n",
      " |-- NAME_CONTRACT_TYPE: string (nullable = true)\n",
      " |-- CODE_GENDER: string (nullable = true)\n",
      " |-- FLAG_OWN_CAR: string (nullable = true)\n",
      " |-- FLAG_OWN_REALTY: string (nullable = true)\n",
      " |-- CNT_CHILDREN: double (nullable = true)\n",
      " |-- AMT_INCOME_TOTAL: double (nullable = true)\n",
      " |-- AMT_CREDIT: double (nullable = true)\n",
      " |-- AMT_ANNUITY: double (nullable = true)\n",
      " |-- NAME_INCOME_TYPE: string (nullable = true)\n",
      " |-- NAME_EDUCATION_TYPE: string (nullable = true)\n",
      " |-- NAME_FAMILY_STATUS: string (nullable = true)\n",
      " |-- NAME_HOUSING_TYPE: string (nullable = true)\n",
      " |-- DAYS_BIRTH: double (nullable = true)\n",
      " |-- DAYS_EMPLOYED: double (nullable = true)\n",
      " |-- OWN_CAR_AGE: double (nullable = true)\n",
      " |-- FLAG_MOBIL: double (nullable = true)\n",
      " |-- FLAG_EMP_PHONE: double (nullable = true)\n",
      " |-- FLAG_WORK_PHONE: double (nullable = true)\n",
      " |-- FLAG_CONT_MOBILE: double (nullable = true)\n",
      " |-- FLAG_PHONE: double (nullable = true)\n",
      " |-- OCCUPATION_TYPE: double (nullable = true)\n",
      " |-- CNT_FAM_MEMBERS: double (nullable = true)\n",
      " |-- REGION_RATING_CLIENT: double (nullable = true)\n",
      " |-- REGION_RATING_CLIENT_W_CITY: double (nullable = true)\n",
      " |-- REG_REGION_NOT_LIVE_REGION: string (nullable = true)\n",
      " |-- REG_REGION_NOT_WORK_REGION: double (nullable = true)\n",
      " |-- ORGANIZATION_TYPE: double (nullable = true)\n",
      " |-- FLAG_DOCUMENT_2: double (nullable = true)\n",
      " |-- FLAG_DOCUMENT_3: double (nullable = true)\n",
      " |-- FLAG_DOCUMENT_4: double (nullable = true)\n",
      " |-- FLAG_DOCUMENT_5: double (nullable = true)\n",
      " |-- FLAG_DOCUMENT_6: double (nullable = true)\n",
      " |-- FLAG_DOCUMENT_7: double (nullable = true)\n",
      " |-- FLAG_DOCUMENT_8: double (nullable = true)\n",
      " |-- FLAG_DOCUMENT_9: double (nullable = true)\n",
      " |-- FLAG_DOCUMENT_10: double (nullable = true)\n",
      " |-- NAME_CONTRACT_TYPE_index: double (nullable = false)\n",
      " |-- NAME_CONTRACT_TYPE_enc: vector (nullable = true)\n",
      " |-- CODE_GENDER_index: double (nullable = false)\n",
      " |-- CODE_GENDER_enc: vector (nullable = true)\n",
      " |-- FLAG_OWN_CAR_index: double (nullable = false)\n",
      " |-- FLAG_OWN_CAR_enc: vector (nullable = true)\n",
      " |-- FLAG_OWN_REALTY_index: double (nullable = false)\n",
      " |-- FLAG_OWN_REALTY_enc: vector (nullable = true)\n",
      " |-- NAME_INCOME_TYPE_index: double (nullable = false)\n",
      " |-- NAME_INCOME_TYPE_enc: vector (nullable = true)\n",
      " |-- NAME_EDUCATION_TYPE_index: double (nullable = false)\n",
      " |-- NAME_EDUCATION_TYPE_enc: vector (nullable = true)\n",
      " |-- NAME_FAMILY_STATUS_index: double (nullable = false)\n",
      " |-- NAME_FAMILY_STATUS_enc: vector (nullable = true)\n",
      " |-- NAME_HOUSING_TYPE_index: double (nullable = false)\n",
      " |-- NAME_HOUSING_TYPE_enc: vector (nullable = true)\n",
      " |-- REG_REGION_NOT_LIVE_REGION_index: double (nullable = false)\n",
      " |-- REG_REGION_NOT_LIVE_REGION_enc: vector (nullable = true)\n",
      " |-- features: vector (nullable = true)\n",
      " |-- scaled_features: vector (nullable = true)\n",
      "\n"
     ]
    }
   ],
   "source": [
    "finalDF.printSchema()"
   ]
  },
  {
   "cell_type": "code",
   "execution_count": 41,
   "id": "4f470b17",
   "metadata": {},
   "outputs": [
    {
     "name": "stdout",
     "output_type": "stream",
     "text": [
      "Observations in training set =  215369\n",
      "Observations in testing set =  92128\n"
     ]
    }
   ],
   "source": [
    "trainDF, testDF =  finalDF.randomSplit([0.7,0.3], seed = 2020)\n",
    "\n",
    "# print the count of observations in each set\n",
    "print(\"Observations in training set = \", trainDF.count())\n",
    "print(\"Observations in testing set = \", testDF.count())"
   ]
  },
  {
   "cell_type": "code",
   "execution_count": 42,
   "id": "28a84a61",
   "metadata": {},
   "outputs": [],
   "source": [
    "from pyspark.ml.classification import LogisticRegression\n",
    "\n",
    "# Build the LogisticRegression object 'lr' by setting the required parameters\n",
    "lr = LogisticRegression(featuresCol=\"features\", labelCol=\"Target\",maxIter= 10,regParam=0.3, elasticNetParam=0.8)\n",
    "\n",
    "# fit the LogisticRegression object on the training data\n",
    "lrmodel = lr.fit(trainDF)"
   ]
  },
  {
   "cell_type": "code",
   "execution_count": 43,
   "id": "71ea6f62",
   "metadata": {},
   "outputs": [],
   "source": [
    "predictonDF = lrmodel.transform(testDF)"
   ]
  },
  {
   "cell_type": "code",
   "execution_count": 44,
   "id": "394ff0da",
   "metadata": {},
   "outputs": [
    {
     "name": "stdout",
     "output_type": "stream",
     "text": [
      "+------+----------------------------------------+----------------------------------------+----------+\n",
      "|Target|rawPrediction                           |probability                             |prediction|\n",
      "+------+----------------------------------------+----------------------------------------+----------+\n",
      "|0.0   |[2.5109679034452017,-2.5109679034452017]|[0.9249071428598314,0.07509285714016856]|0.0       |\n",
      "|0.0   |[2.5109679034452017,-2.5109679034452017]|[0.9249071428598314,0.07509285714016856]|0.0       |\n",
      "|0.0   |[2.5109679034452017,-2.5109679034452017]|[0.9249071428598314,0.07509285714016856]|0.0       |\n",
      "|0.0   |[2.5109679034452017,-2.5109679034452017]|[0.9249071428598314,0.07509285714016856]|0.0       |\n",
      "|0.0   |[2.5109679034452017,-2.5109679034452017]|[0.9249071428598314,0.07509285714016856]|0.0       |\n",
      "|0.0   |[2.5109679034452017,-2.5109679034452017]|[0.9249071428598314,0.07509285714016856]|0.0       |\n",
      "|0.0   |[2.5109679034452017,-2.5109679034452017]|[0.9249071428598314,0.07509285714016856]|0.0       |\n",
      "|0.0   |[2.5109679034452017,-2.5109679034452017]|[0.9249071428598314,0.07509285714016856]|0.0       |\n",
      "|0.0   |[2.5109679034452017,-2.5109679034452017]|[0.9249071428598314,0.07509285714016856]|0.0       |\n",
      "|0.0   |[2.5109679034452017,-2.5109679034452017]|[0.9249071428598314,0.07509285714016856]|0.0       |\n",
      "+------+----------------------------------------+----------------------------------------+----------+\n",
      "only showing top 10 rows\n",
      "\n"
     ]
    }
   ],
   "source": [
    "predictonDF.select(\"Target\",\"rawPrediction\", \"probability\", \"prediction\").show(10,False)"
   ]
  },
  {
   "cell_type": "code",
   "execution_count": 45,
   "id": "67f27c7c",
   "metadata": {},
   "outputs": [
    {
     "name": "stdout",
     "output_type": "stream",
     "text": [
      "Accuracy =  0.9202414032650226\n"
     ]
    }
   ],
   "source": [
    "from pyspark.ml.evaluation import BinaryClassificationEvaluator\n",
    "\n",
    "# Build the BinaryClassificationEvaluator object 'evaluator'\n",
    "evaluator = BinaryClassificationEvaluator()\n",
    "\n",
    "# Calculate the accracy and print its value\n",
    "accuracy = predictonDF.filter(predictonDF.Target == predictonDF.prediction).count()/float(predictonDF.count())\n",
    "print(\"Accuracy = \", accuracy)\n",
    "\n",
    "# evaluate(predictiondataframe) gets area under the ROC curve\n",
    "#print('Area under the ROC curve = ', evaluator.evaluate(predictonDF))"
   ]
  },
  {
   "cell_type": "code",
   "execution_count": 46,
   "id": "773eaac9",
   "metadata": {},
   "outputs": [
    {
     "name": "stdout",
     "output_type": "stream",
     "text": [
      "Accuracy =  0.91885090240471\n",
      "Area under the ROC curve =  1.0\n",
      "Precision =  0.8442869808499499\n",
      "Recall =  0.91885090240471\n",
      "F1 Score =  0.879992270156985\n"
     ]
    }
   ],
   "source": [
    "# Create model summary object\n",
    "lrmodelSummary = lrmodel.summary\n",
    "\n",
    "# Print the following metrics one by one: \n",
    "# 1. Accuracy\n",
    "# Accuracy is a model summary parameter\n",
    "print(\"Accuracy = \", lrmodelSummary.accuracy)\n",
    "# 2. Area under the ROC curve\n",
    "# Area under the ROC curve is a model summary parameter\n",
    "print(\"Area under the ROC curve = \", lrmodelSummary.areaUnderROC)\n",
    "# 3. Precision (Positive Predictive Value)\n",
    "# Precision is a model summary parameter\n",
    "print(\"Precision = \", lrmodelSummary.weightedPrecision)\n",
    "# 4. Recall (True Positive Rate)\n",
    "# Recall is a model summary parameter\n",
    "print(\"Recall = \", lrmodelSummary.weightedRecall)\n",
    "# 5. F1 Score (F-measure)\n",
    "# F1 Score is a model summary method\n",
    "print(\"F1 Score = \", lrmodelSummary.weightedFMeasure())\n"
   ]
  },
  {
   "cell_type": "code",
   "execution_count": 47,
   "id": "c32d3cfc",
   "metadata": {},
   "outputs": [
    {
     "name": "stdout",
     "output_type": "stream",
     "text": [
      "Collecting kafka-python\n",
      "  Downloading kafka_python-2.0.2-py2.py3-none-any.whl (246 kB)Note: you may need to restart the kernel to use updated packages.\n",
      "\n",
      "Installing collected packages: kafka-python\n",
      "Successfully installed kafka-python-2.0.2\n"
     ]
    }
   ],
   "source": [
    "pip install kafka-python"
   ]
  },
  {
   "cell_type": "code",
   "execution_count": 49,
   "id": "7602d651",
   "metadata": {},
   "outputs": [
    {
     "name": "stdout",
     "output_type": "stream",
     "text": [
      "Collecting zookeeper\n",
      "  Downloading zookeeper-1.3.2-py3-none-any.whl (43 kB)\n",
      "Requirement already satisfied: click<8.1.0,>=7.0 in c:\\users\\visha\\anaconda\\lib\\site-packages (from zookeeper) (7.1.2)\n",
      "Collecting tensorflow-datasets<4.5.0,>=1.3.0\n",
      "  Downloading tensorflow_datasets-4.4.0-py3-none-any.whl (4.0 MB)\n",
      "Collecting typeguard<2.13.0,>=2.5.1\n",
      "  Downloading typeguard-2.12.1-py3-none-any.whl (17 kB)\n",
      "Requirement already satisfied: numpy in c:\\users\\visha\\anaconda\\lib\\site-packages (from tensorflow-datasets<4.5.0,>=1.3.0->zookeeper) (1.20.1)\n",
      "Collecting dill\n",
      "  Downloading dill-0.3.4-py2.py3-none-any.whl (86 kB)\n",
      "Requirement already satisfied: requests>=2.19.0 in c:\\users\\visha\\anaconda\\lib\\site-packages (from tensorflow-datasets<4.5.0,>=1.3.0->zookeeper) (2.25.1)\n",
      "Requirement already satisfied: tqdm in c:\\users\\visha\\anaconda\\lib\\site-packages (from tensorflow-datasets<4.5.0,>=1.3.0->zookeeper) (4.59.0)\n",
      "Requirement already satisfied: attrs>=18.1.0 in c:\\users\\visha\\anaconda\\lib\\site-packages (from tensorflow-datasets<4.5.0,>=1.3.0->zookeeper) (20.3.0)\n",
      "Collecting protobuf>=3.12.2\n",
      "  Downloading protobuf-3.19.4-cp38-cp38-win_amd64.whl (895 kB)\n",
      "Collecting tensorflow-metadata\n",
      "  Downloading tensorflow_metadata-1.6.0-py3-none-any.whl (48 kB)\n",
      "Collecting importlib-resources\n",
      "  Downloading importlib_resources-5.4.0-py3-none-any.whl (28 kB)\n",
      "Requirement already satisfied: future in c:\\users\\visha\\anaconda\\lib\\site-packages (from tensorflow-datasets<4.5.0,>=1.3.0->zookeeper) (0.18.2)\n",
      "Collecting promise\n",
      "  Downloading promise-2.3.tar.gz (19 kB)\n",
      "Collecting termcolor\n",
      "  Using cached termcolor-1.1.0-py3-none-any.whl\n",
      "Requirement already satisfied: six in c:\\users\\visha\\anaconda\\lib\\site-packages (from tensorflow-datasets<4.5.0,>=1.3.0->zookeeper) (1.15.0)\n",
      "Collecting absl-py\n",
      "  Using cached absl_py-1.0.0-py3-none-any.whl (126 kB)\n",
      "Requirement already satisfied: urllib3<1.27,>=1.21.1 in c:\\users\\visha\\anaconda\\lib\\site-packages (from requests>=2.19.0->tensorflow-datasets<4.5.0,>=1.3.0->zookeeper) (1.26.4)\n",
      "Requirement already satisfied: chardet<5,>=3.0.2 in c:\\users\\visha\\anaconda\\lib\\site-packages (from requests>=2.19.0->tensorflow-datasets<4.5.0,>=1.3.0->zookeeper) (4.0.0)\n",
      "Requirement already satisfied: certifi>=2017.4.17 in c:\\users\\visha\\anaconda\\lib\\site-packages (from requests>=2.19.0->tensorflow-datasets<4.5.0,>=1.3.0->zookeeper) (2020.12.5)\n",
      "Requirement already satisfied: idna<3,>=2.5 in c:\\users\\visha\\anaconda\\lib\\site-packages (from requests>=2.19.0->tensorflow-datasets<4.5.0,>=1.3.0->zookeeper) (2.10)\n",
      "Requirement already satisfied: zipp>=3.1.0 in c:\\users\\visha\\anaconda\\lib\\site-packages (from importlib-resources->tensorflow-datasets<4.5.0,>=1.3.0->zookeeper) (3.4.1)\n",
      "Collecting googleapis-common-protos<2,>=1.52.0\n",
      "  Downloading googleapis_common_protos-1.55.0-py2.py3-none-any.whl (212 kB)\n",
      "Building wheels for collected packages: promise\n",
      "  Building wheel for promise (setup.py): started\n",
      "  Building wheel for promise (setup.py): finished with status 'done'\n",
      "  Created wheel for promise: filename=promise-2.3-py3-none-any.whl size=21494 sha256=9cae1e819476d5846c041577075a1ea47cdcbe6b9a4cb8278c9db5eb26f33be7\n",
      "  Stored in directory: c:\\users\\visha\\appdata\\local\\pip\\cache\\wheels\\54\\aa\\01\\724885182f93150035a2a91bce34a12877e8067a97baaf5dc8\n",
      "Successfully built promise\n",
      "Installing collected packages: protobuf, googleapis-common-protos, absl-py, termcolor, tensorflow-metadata, promise, importlib-resources, dill, typeguard, tensorflow-datasets, zookeeper\n",
      "Successfully installed absl-py-1.0.0 dill-0.3.4 googleapis-common-protos-1.55.0 importlib-resources-5.4.0 promise-2.3 protobuf-3.19.4 tensorflow-datasets-4.4.0 tensorflow-metadata-1.6.0 termcolor-1.1.0 typeguard-2.12.1 zookeeper-1.3.2\n"
     ]
    }
   ],
   "source": [
    "!pip install zookeeper"
   ]
  },
  {
   "cell_type": "code",
   "execution_count": null,
   "id": "1c8404a3",
   "metadata": {},
   "outputs": [],
   "source": []
  },
  {
   "cell_type": "code",
   "execution_count": null,
   "id": "891faa4a",
   "metadata": {},
   "outputs": [],
   "source": []
  },
  {
   "cell_type": "code",
   "execution_count": null,
   "id": "8f9e2f14",
   "metadata": {},
   "outputs": [],
   "source": []
  },
  {
   "cell_type": "code",
   "execution_count": null,
   "id": "91546f96",
   "metadata": {},
   "outputs": [],
   "source": []
  },
  {
   "cell_type": "code",
   "execution_count": null,
   "id": "f5b5937a",
   "metadata": {},
   "outputs": [],
   "source": []
  },
  {
   "cell_type": "code",
   "execution_count": null,
   "id": "9574f98c",
   "metadata": {},
   "outputs": [],
   "source": []
  },
  {
   "cell_type": "code",
   "execution_count": 39,
   "id": "9eca1bf1",
   "metadata": {},
   "outputs": [],
   "source": []
  },
  {
   "cell_type": "code",
   "execution_count": null,
   "id": "315c240c",
   "metadata": {},
   "outputs": [],
   "source": []
  },
  {
   "cell_type": "code",
   "execution_count": null,
   "id": "9c2c73bd",
   "metadata": {},
   "outputs": [],
   "source": []
  },
  {
   "cell_type": "code",
   "execution_count": null,
   "id": "f0474fd0",
   "metadata": {},
   "outputs": [],
   "source": []
  },
  {
   "cell_type": "code",
   "execution_count": null,
   "id": "d644918b",
   "metadata": {},
   "outputs": [],
   "source": []
  },
  {
   "cell_type": "code",
   "execution_count": null,
   "id": "83d2e12a",
   "metadata": {},
   "outputs": [],
   "source": []
  },
  {
   "cell_type": "code",
   "execution_count": null,
   "id": "c28e115d",
   "metadata": {},
   "outputs": [],
   "source": []
  },
  {
   "cell_type": "code",
   "execution_count": null,
   "id": "3e5b0a92",
   "metadata": {},
   "outputs": [],
   "source": []
  },
  {
   "cell_type": "code",
   "execution_count": null,
   "id": "5a810ab3",
   "metadata": {},
   "outputs": [],
   "source": []
  },
  {
   "cell_type": "code",
   "execution_count": null,
   "id": "92debd97",
   "metadata": {},
   "outputs": [],
   "source": []
  },
  {
   "cell_type": "code",
   "execution_count": null,
   "id": "ce9c721a",
   "metadata": {},
   "outputs": [],
   "source": []
  },
  {
   "cell_type": "code",
   "execution_count": null,
   "id": "ff05e047",
   "metadata": {},
   "outputs": [],
   "source": []
  },
  {
   "cell_type": "code",
   "execution_count": null,
   "id": "a72b5354",
   "metadata": {},
   "outputs": [],
   "source": []
  },
  {
   "cell_type": "code",
   "execution_count": null,
   "id": "1fe6b25f",
   "metadata": {},
   "outputs": [],
   "source": []
  },
  {
   "cell_type": "code",
   "execution_count": null,
   "id": "7365b9d8",
   "metadata": {},
   "outputs": [],
   "source": []
  },
  {
   "cell_type": "code",
   "execution_count": null,
   "id": "a348069e",
   "metadata": {},
   "outputs": [],
   "source": []
  },
  {
   "cell_type": "code",
   "execution_count": null,
   "id": "caacad84",
   "metadata": {},
   "outputs": [],
   "source": []
  }
 ],
 "metadata": {
  "kernelspec": {
   "display_name": "Python 3 (ipykernel)",
   "language": "python",
   "name": "python3"
  },
  "language_info": {
   "codemirror_mode": {
    "name": "ipython",
    "version": 3
   },
   "file_extension": ".py",
   "mimetype": "text/x-python",
   "name": "python",
   "nbconvert_exporter": "python",
   "pygments_lexer": "ipython3",
   "version": "3.9.7"
  }
 },
 "nbformat": 4,
 "nbformat_minor": 5
}
